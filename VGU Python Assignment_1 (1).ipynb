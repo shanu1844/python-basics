{
 "cells": [
  {
   "cell_type": "markdown",
   "id": "2a8e9505",
   "metadata": {},
   "source": [
    "## Question 1.\tPython program to add two numbers\n",
    "\n"
   ]
  },
  {
   "cell_type": "code",
   "execution_count": 1,
   "id": "94db056f",
   "metadata": {},
   "outputs": [
    {
     "name": "stdout",
     "output_type": "stream",
     "text": [
      "Enter the first number: 55\n",
      "Enter the second number: 45\n",
      "The sum of 55.0 and 45.0 is 100.0\n"
     ]
    }
   ],
   "source": [
    "num1 = float(input(\"Enter the first number: \"))\n",
    "num2 = float(input(\"Enter the second number: \"))\n",
    "sum = num1 + num2\n",
    "print(\"The sum of {0} and {1} is {2}\".format(num1, num2, sum))"
   ]
  },
  {
   "cell_type": "markdown",
   "id": "04f077a5",
   "metadata": {},
   "source": [
    "## Question 2.Maximum of two numbers in Python\n"
   ]
  },
  {
   "cell_type": "code",
   "execution_count": 7,
   "id": "de8dcf82",
   "metadata": {},
   "outputs": [
    {
     "name": "stdout",
     "output_type": "stream",
     "text": [
      "Enter the first number: 44\n",
      "Enter the second number: 88\n",
      "The maximum of 44.0 and 88.0 is 88.0\n"
     ]
    }
   ],
   "source": [
    "num1 = float(input(\"Enter the first number: \"))\n",
    "num2 = float(input(\"Enter the second number: \"))\n",
    "\n",
    "max_num = max(num1, num2)\n",
    "\n",
    "print(\"The maximum of {0} and {1} is {2}\".format(num1, num2, max_num))"
   ]
  },
  {
   "cell_type": "markdown",
   "id": "1efa765f",
   "metadata": {},
   "source": [
    "## Question 3.\tPython Program for factorial of a number\n"
   ]
  },
  {
   "cell_type": "code",
   "execution_count": 8,
   "id": "053d1d5c",
   "metadata": {},
   "outputs": [
    {
     "name": "stdout",
     "output_type": "stream",
     "text": [
      "Enter a number: 5\n",
      "The factorial of 5 is 120\n"
     ]
    }
   ],
   "source": [
    "num = int(input(\"Enter a number: \"))\n",
    "\n",
    "factorial = 1\n",
    "\n",
    "if num < 0:\n",
    "    print(\"factorial does not exist for negative numbers\")\n",
    "elif num == 0:\n",
    "    print(\"The factorial of 0 is 1\")\n",
    "else:\n",
    "    for i in range(1, num + 1):\n",
    "        factorial = factorial * i\n",
    "    print(\"The factorial of\", num, \"is\", factorial)"
   ]
  },
  {
   "cell_type": "markdown",
   "id": "33404611",
   "metadata": {},
   "source": [
    "## 4.\tPython Program for simple interest\n"
   ]
  },
  {
   "cell_type": "code",
   "execution_count": 10,
   "id": "2594116c",
   "metadata": {},
   "outputs": [
    {
     "name": "stdout",
     "output_type": "stream",
     "text": [
      "Enter the principal amount: 4\n",
      "Enter the rate of interest: 5\n",
      "Enter the time period (in years): 7\n",
      "The simple interest on a principal amount of 4.0 at a rate of 5.0% for 7.0 years is 1.4\n"
     ]
    }
   ],
   "source": [
    "p = float(input(\"Enter the principal amount: \"))\n",
    "r = float(input(\"Enter the rate of interest: \"))\n",
    "t = float(input(\"Enter the time period (in years): \"))\n",
    "\n",
    "interest = (p*r*t) / 100\n",
    "\n",
    "print(\"The simple interest on a principal amount of {0} at a rate of {1}% for {2} years is {3}\".format(p, r, t, interest))"
   ]
  },
  {
   "cell_type": "markdown",
   "id": "d34f4a13",
   "metadata": {},
   "source": [
    "## 5.\tPython Program for compound interest\n"
   ]
  },
  {
   "cell_type": "code",
   "execution_count": 11,
   "id": "dcb67c1a",
   "metadata": {},
   "outputs": [
    {
     "name": "stdout",
     "output_type": "stream",
     "text": [
      "Enter the principal amount: 4\n",
      "Enter the rate of interest: 8\n",
      "Enter the time period (in years): 7\n",
      "Enter the number of times interest is compounded per year: 5\n",
      "The compound interest on a principal amount of 4.0 at a rate of 8.0% for 7.0 years, compounded 5.0 times per year is 1336986956358035.5\n"
     ]
    }
   ],
   "source": [
    "principal = float(input(\"Enter the principal amount: \"))\n",
    "rate = float(input(\"Enter the rate of interest: \"))\n",
    "time = float(input(\"Enter the time period (in years): \"))\n",
    "n = float(input(\"Enter the number of times interest is compounded per year: \"))\n",
    "amount = principal * (1 + (rate / n))**(n * time)\n",
    "interest = amount - principal\n",
    "print(\"The compound interest on a principal amount of {0} at a rate of {1}% for {2} years, compounded {3} times per year is {4}\".format(principal, rate, time, n, interest))"
   ]
  },
  {
   "cell_type": "markdown",
   "id": "f5bc28d2",
   "metadata": {},
   "source": [
    "## 6.\tPython Program to check Armstrong Number\n"
   ]
  },
  {
   "cell_type": "code",
   "execution_count": 1,
   "id": "c75e2e08",
   "metadata": {},
   "outputs": [
    {
     "name": "stdout",
     "output_type": "stream",
     "text": [
      "Enter a number: 45\n",
      "45 is not an Armstrong number\n"
     ]
    }
   ],
   "source": [
    "num = int(input(\"Enter a number: \"))\n",
    "num_digits = len(str(num))\n",
    "sum = 0\n",
    "temp = num\n",
    "while temp > 0:\n",
    "   digit = temp % 10\n",
    "   sum += digit ** num_digits\n",
    "   temp //= 10\n",
    "if num == sum:\n",
    "   print(num, \"is an Armstrong number\")\n",
    "else:\n",
    "   print(num, \"is not an Armstrong number\")\n"
   ]
  },
  {
   "cell_type": "markdown",
   "id": "d30c6f3c",
   "metadata": {},
   "source": [
    "## 7.\tPython Program for Program to find area of a circle\n"
   ]
  },
  {
   "cell_type": "code",
   "execution_count": 2,
   "id": "76c4ed03",
   "metadata": {},
   "outputs": [
    {
     "name": "stdout",
     "output_type": "stream",
     "text": [
      "Enter the radius of the circle: 55\n",
      "The area of the circle with radius 55.0 is 9498.5\n"
     ]
    }
   ],
   "source": [
    "radius = float(input(\"Enter the radius of the circle: \"))\n",
    "area = 3.14 * (radius ** 2)\n",
    "print(\"The area of the circle with radius {0} is {1}\".format(radius, area))\n"
   ]
  },
  {
   "cell_type": "markdown",
   "id": "1a8ead25",
   "metadata": {},
   "source": [
    "## 8.\tPython program to print all Prime numbers in an Interval\n"
   ]
  },
  {
   "cell_type": "code",
   "execution_count": 3,
   "id": "74e2ff11",
   "metadata": {},
   "outputs": [
    {
     "name": "stdout",
     "output_type": "stream",
     "text": [
      "Enter the starting number: 2\n",
      "Enter the ending number: 10\n",
      "Prime numbers between 2 and 10 are:\n",
      "2\n",
      "3\n",
      "5\n",
      "7\n"
     ]
    }
   ],
   "source": [
    "start = int(input(\"Enter the starting number: \"))\n",
    "end = int(input(\"Enter the ending number: \"))\n",
    "print(\"Prime numbers between {0} and {1} are:\".format(start, end))\n",
    "\n",
    "for num in range(start, end + 1):\n",
    "    if num > 1:\n",
    "        for i in range(2, num):\n",
    "            if (num % i) == 0:\n",
    "                break\n",
    "        else:\n",
    "            print(num)\n"
   ]
  },
  {
   "cell_type": "markdown",
   "id": "c50e2117",
   "metadata": {},
   "source": [
    "## 9.\tPython program to check whether a number is Prime or not\n"
   ]
  },
  {
   "cell_type": "code",
   "execution_count": 5,
   "id": "8d36a3e1",
   "metadata": {},
   "outputs": [
    {
     "name": "stdout",
     "output_type": "stream",
     "text": [
      "Enter a number: 2\n",
      "2 is a prime number\n"
     ]
    }
   ],
   "source": [
    "num = int(input(\"Enter a number: \"))\n",
    "if num > 1:\n",
    "    for i in range(2, int(num/2)+1):\n",
    "        if (num % i) == 0:\n",
    "            print(num, \"is not a prime number\")\n",
    "            break\n",
    "    else:\n",
    "        print(num, \"is a prime number\")\n",
    "else:\n",
    "    print(num, \"is not a prime number\")\n"
   ]
  },
  {
   "cell_type": "markdown",
   "id": "b9af7e39",
   "metadata": {},
   "source": [
    "## 10.\tPython Program for n-th Fibonacci number\n"
   ]
  },
  {
   "cell_type": "code",
   "execution_count": 9,
   "id": "a9090f85",
   "metadata": {},
   "outputs": [
    {
     "name": "stdout",
     "output_type": "stream",
     "text": [
      "Enter the value of n: 5\n",
      "The 5 th Fibonacci number is: 5\n"
     ]
    }
   ],
   "source": [
    "n = int(input(\"Enter the value of n: \"))\n",
    "a, b = 0, 1\n",
    "if n <= 0:\n",
    "    print(\"Invalid input!\")\n",
    "elif n == 1:\n",
    "    print(\"The 1st Fibonacci number is:\", a)\n",
    "else:\n",
    "    for i in range(2, n+1):\n",
    "        c = a + b\n",
    "        a = b\n",
    "        b = c\n",
    "    print(\"The\", n, \"th Fibonacci number is:\", b)\n"
   ]
  },
  {
   "cell_type": "markdown",
   "id": "d5f9d672",
   "metadata": {},
   "source": [
    "## 11.\tPython Program for How to check if a given number is Fibonacci number?\n"
   ]
  },
  {
   "cell_type": "code",
   "execution_count": 10,
   "id": "357a8c96",
   "metadata": {},
   "outputs": [
    {
     "name": "stdout",
     "output_type": "stream",
     "text": [
      "Enter a number: 5\n",
      "5 is a Fibonacci number\n"
     ]
    }
   ],
   "source": [
    "import math\n",
    "\n",
    "def isPerfectSquare(x):\n",
    "    s = int(math.sqrt(x))\n",
    "    return s*s == x\n",
    "\n",
    "def isFibonacci(n):\n",
    "    return isPerfectSquare(5*n*n + 4) or isPerfectSquare(5*n*n - 4)\n",
    "\n",
    "num = int(input(\"Enter a number: \"))\n",
    "\n",
    "if isFibonacci(num):\n",
    "    print(num, \"is a Fibonacci number\")\n",
    "else:\n",
    "    print(num, \"is not a Fibonacci number\")\n"
   ]
  },
  {
   "cell_type": "markdown",
   "id": "c4673598",
   "metadata": {},
   "source": [
    "## 12.\tPython Program for n\\’th multiple of a number in Fibonacci Series\n"
   ]
  },
  {
   "cell_type": "code",
   "execution_count": 13,
   "id": "4d7960f0",
   "metadata": {},
   "outputs": [
    {
     "name": "stdout",
     "output_type": "stream",
     "text": [
      "Enter the value of n: 2\n",
      "Enter the value of k: 3\n",
      "The 2 th multiple of 3 in the Fibonacci series is: 13\n"
     ]
    }
   ],
   "source": [
    "def findNthMultipleInFibonacciSeries(n, k):\n",
    "    a, b = 0, 1\n",
    "    count = 0\n",
    "\n",
    "    while count < n:\n",
    "        c = a + b\n",
    "        a = b\n",
    "        b = c\n",
    "\n",
    "        if c % k == 0:\n",
    "            count += 1\n",
    "\n",
    "    return a\n",
    "\n",
    "n = int(input(\"Enter the value of n: \"))\n",
    "k = int(input(\"Enter the value of k: \"))\n",
    "\n",
    "nth_multiple = findNthMultipleInFibonacciSeries(n, k)\n",
    "\n",
    "print(\"The\", n, \"th multiple of\", k, \"in the Fibonacci series is:\", nth_multiple)\n"
   ]
  },
  {
   "cell_type": "markdown",
   "id": "118bb78a",
   "metadata": {},
   "source": [
    "## 13.\tProgram to print ASCII Value of a character\n"
   ]
  },
  {
   "cell_type": "code",
   "execution_count": 15,
   "id": "d8d0a89b",
   "metadata": {},
   "outputs": [
    {
     "name": "stdout",
     "output_type": "stream",
     "text": [
      "Enter a character: S\n",
      "The ASCII value of S is 83\n"
     ]
    }
   ],
   "source": [
    "c = input(\"Enter a character: \")\n",
    "ascii_value = ord(c)\n",
    "print(\"The ASCII value of\", c, \"is\", ascii_value)"
   ]
  },
  {
   "cell_type": "markdown",
   "id": "f9780302",
   "metadata": {},
   "source": [
    "## 14.\tPython Program for Sum of squares of first n natural numbers\n"
   ]
  },
  {
   "cell_type": "code",
   "execution_count": 16,
   "id": "0ea949d1",
   "metadata": {},
   "outputs": [
    {
     "name": "stdout",
     "output_type": "stream",
     "text": [
      "Enter a number: 9\n",
      "The sum of squares of the first 9 natural numbers is 285\n"
     ]
    }
   ],
   "source": [
    "n = int(input(\"Enter a number: \"))\n",
    "sum_of_squares = 0\n",
    "for i in range(1, n+1):\n",
    "    sum_of_squares += i*i\n",
    "print(\"The sum of squares of the first\", n, \"natural numbers is\", sum_of_squares)\n"
   ]
  },
  {
   "cell_type": "markdown",
   "id": "9b61fe88",
   "metadata": {},
   "source": [
    "## 15.\tPython Program for cube sum of first n natural numbers"
   ]
  },
  {
   "cell_type": "code",
   "execution_count": 17,
   "id": "47eb1556",
   "metadata": {},
   "outputs": [
    {
     "name": "stdout",
     "output_type": "stream",
     "text": [
      "Enter a number: 5\n",
      "The sum of cubes of the first 5 natural numbers is 225\n"
     ]
    }
   ],
   "source": [
    "n = int(input(\"Enter a number: \"))\n",
    "sum_of_cubes = 0\n",
    "for i in range(1, n+1):\n",
    "    sum_of_cubes += i*i*i\n",
    "print(\"The sum of cubes of the first\", n, \"natural numbers is\", sum_of_cubes)\n"
   ]
  },
  {
   "cell_type": "code",
   "execution_count": null,
   "id": "7a187fa0",
   "metadata": {},
   "outputs": [],
   "source": []
  }
 ],
 "metadata": {
  "kernelspec": {
   "display_name": "Python 3 (ipykernel)",
   "language": "python",
   "name": "python3"
  },
  "language_info": {
   "codemirror_mode": {
    "name": "ipython",
    "version": 3
   },
   "file_extension": ".py",
   "mimetype": "text/x-python",
   "name": "python",
   "nbconvert_exporter": "python",
   "pygments_lexer": "ipython3",
   "version": "3.9.12"
  }
 },
 "nbformat": 4,
 "nbformat_minor": 5
}
